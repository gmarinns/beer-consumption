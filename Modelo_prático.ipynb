{
 "cells": [
  {
   "cell_type": "markdown",
   "metadata": {},
   "source": [
    "### Em um novo notebook/projeto Python realize o estudo pretendido\n"
   ]
  },
  {
   "cell_type": "code",
   "execution_count": null,
   "metadata": {},
   "outputs": [],
   "source": [
    "import pickle\n",
    "\n",
    "modelo = open('Modelo_consumo','rb')\n",
    "\n",
    "lm_new = pickle.load(modelo)\n",
    "\n",
    "modelo.close()\n",
    "\n",
    "Temperatura_max = 30.5\n",
    "\n",
    "Precipitacao = 12.2\n",
    "\n",
    "Final_de_Semana = 0\n",
    "\n",
    "entrada = [[Temperatura_max, Precipitacao, Final_de_Semana]]\n",
    "\n",
    "print('{0:.2f} litros'.format(lm_new.predict(entrada)[0]))"
   ]
  }
 ],
 "metadata": {
  "kernelspec": {
   "display_name": "Python 3",
   "language": "python",
   "name": "python3"
  },
  "language_info": {
   "codemirror_mode": {
    "name": "ipython",
    "version": 3
   },
   "file_extension": ".py",
   "mimetype": "text/x-python",
   "name": "python",
   "nbconvert_exporter": "python",
   "pygments_lexer": "ipython3",
   "version": "3.12.4"
  }
 },
 "nbformat": 4,
 "nbformat_minor": 2
}
